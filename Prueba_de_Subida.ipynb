{
  "nbformat": 4,
  "nbformat_minor": 0,
  "metadata": {
    "colab": {
      "provenance": [],
      "authorship_tag": "ABX9TyO8y10+qHjLwFd89QUms7nx",
      "include_colab_link": true
    },
    "kernelspec": {
      "name": "python3",
      "display_name": "Python 3"
    },
    "language_info": {
      "name": "python"
    }
  },
  "cells": [
    {
      "cell_type": "markdown",
      "metadata": {
        "id": "view-in-github",
        "colab_type": "text"
      },
      "source": [
        "<a href=\"https://colab.research.google.com/github/Will046-rA9/An-lisis-ZNI/blob/rama-willy/Prueba_de_Subida.ipynb\" target=\"_parent\"><img src=\"https://colab.research.google.com/assets/colab-badge.svg\" alt=\"Open In Colab\"/></a>"
      ]
    },
    {
      "cell_type": "code",
      "execution_count": null,
      "metadata": {
        "id": "rCVFHuoAH_jW",
        "outputId": "4a14e741-4365-448d-d201-6183bf7c85f4",
        "colab": {
          "base_uri": "https://localhost:8080/"
        }
      },
      "outputs": [
        {
          "output_type": "stream",
          "name": "stdout",
          "text": [
            "Prueba de subida\n"
          ]
        }
      ],
      "source": [
        "print (\"Prueba de subida\")"
      ]
    },
    {
      "cell_type": "code",
      "source": [
        "# Holaaa, vengo a modifijar el archivo KJDAKSHKJASDH"
      ],
      "metadata": {
        "id": "JzjCTZRWIDVn"
      },
      "execution_count": null,
      "outputs": []
    }
  ]
}