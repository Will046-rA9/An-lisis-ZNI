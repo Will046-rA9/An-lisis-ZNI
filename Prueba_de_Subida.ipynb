{
  "nbformat": 4,
  "nbformat_minor": 0,
  "metadata": {
    "colab": {
      "provenance": [],
      "authorship_tag": "ABX9TyOIkC1ScNXE9dKpcUs8BHZe",
      "include_colab_link": true
    },
    "kernelspec": {
      "name": "python3",
      "display_name": "Python 3"
    },
    "language_info": {
      "name": "python"
    }
  },
  "cells": [
    {
      "cell_type": "markdown",
      "metadata": {
        "id": "view-in-github",
        "colab_type": "text"
      },
      "source": [
        "<a href=\"https://colab.research.google.com/github/Will046-rA9/An-lisis-ZNI/blob/rama-willy/Prueba_de_Subida.ipynb\" target=\"_parent\"><img src=\"https://colab.research.google.com/assets/colab-badge.svg\" alt=\"Open In Colab\"/></a>"
      ]
    },
    {
      "cell_type": "code",
      "execution_count": null,
      "metadata": {
        "id": "rCVFHuoAH_jW",
        "outputId": "4a14e741-4365-448d-d201-6183bf7c85f4",
        "colab": {
          "base_uri": "https://localhost:8080/"
        }
      },
      "outputs": [
        {
          "output_type": "stream",
          "name": "stdout",
          "text": [
            "Prueba de subida\n"
          ]
        }
      ],
      "source": [
        "print (\"Prueba de subida\")"
      ]
    },
    {
      "cell_type": "code",
      "source": [
        "# Holaaa, vengo a modifijar el archivo KJDAKSHKJASDH\n",
        "#Tutorial: como cambiar una línea del archivo\n"
      ],
      "metadata": {
        "id": "JzjCTZRWIDVn"
      },
      "execution_count": 1,
      "outputs": []
    },
    {
      "cell_type": "code",
      "source": [
        "print(\"Ahora toca hacer Merge\")"
      ],
      "metadata": {
        "id": "xxd-9k-UW-AH",
        "outputId": "4ce8420b-80f8-439a-9f9c-6e03b5eb144b",
        "colab": {
          "base_uri": "https://localhost:8080/"
        }
      },
      "execution_count": 2,
      "outputs": [
        {
          "output_type": "stream",
          "name": "stdout",
          "text": [
            "Ahora toca hacer Merge\n"
          ]
        }
      ]
    },
    {
      "cell_type": "code",
      "source": [],
      "metadata": {
        "id": "fuAJJNsnXF_X"
      },
      "execution_count": null,
      "outputs": []
    }
  ]
}